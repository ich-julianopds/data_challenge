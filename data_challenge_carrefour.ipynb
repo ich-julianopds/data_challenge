{
  "nbformat": 4,
  "nbformat_minor": 0,
  "metadata": {
    "colab": {
      "name": "data_challenge_carrefour.ipynb",
      "provenance": [],
      "collapsed_sections": [],
      "authorship_tag": "ABX9TyO+XAmnFtRa3dCIHvawX0IM",
      "include_colab_link": true
    },
    "kernelspec": {
      "name": "python3",
      "display_name": "Python 3"
    },
    "language_info": {
      "name": "python"
    }
  },
  "cells": [
    {
      "cell_type": "markdown",
      "metadata": {
        "id": "view-in-github",
        "colab_type": "text"
      },
      "source": [
        "<a href=\"https://colab.research.google.com/github/ich-julianopds/data_challenge/blob/main/data_challenge_carrefour.ipynb\" target=\"_parent\"><img src=\"https://colab.research.google.com/assets/colab-badge.svg\" alt=\"Open In Colab\"/></a>"
      ]
    },
    {
      "cell_type": "markdown",
      "metadata": {
        "id": "LxBrWcJL4cuV"
      },
      "source": [
        "# **Data Challenge**\n",
        "\n",
        "Para este desafio, foi necessário primeiro fazer a criação da conta de desenvolvedor no Twitter através de solicitação de conta de Desenvolvedor (Developer). Após a criação, autenticação e autorização do Twitter, foram geradas chaves de autenticação, que após serem geradas, devemos guardar, pois são as suas chaves de acesso para projetos futuros utilizando o consumo da API. Após este processo, seguimos abaixo com a introdução e armazenamento dos dados de nosso projeto. Segue abaixo a primeira parte do projeto de Análise de Sentimentos em posts do Twitter."
      ]
    },
    {
      "cell_type": "code",
      "metadata": {
        "id": "rHF5pBvj87g1"
      },
      "source": [
        "import tweepy as tw\n",
        "from pymongo import MongoClient\n",
        "import sys"
      ],
      "execution_count": 24,
      "outputs": []
    },
    {
      "cell_type": "code",
      "metadata": {
        "id": "e3dg1jXobiXe"
      },
      "source": [
        "connect = MongoClient('127.0.0.1')\n",
        "db = connect['tweets_python']"
      ],
      "execution_count": 20,
      "outputs": []
    },
    {
      "cell_type": "code",
      "metadata": {
        "id": "AioMlL3-b8fn"
      },
      "source": [
        "# Cadastro chaves do Twitter - Apaguei as minhas chaves devido serem chaves individuais\n",
        "\n",
        "consumer_key = ' ' # Entre as aspas você coloca as chaves de acesso de sua conta do Twitter\n",
        "consumer_secret = ' ' # Entre as aspas você coloca as chaves de acesso de sua conta do Twitter\n",
        "\n",
        "access_token = ' ' # Entre as aspas você coloca as chaves de acesso de sua conta do Twitter\n",
        "access_token_secret = ' ' # Entre as aspas você coloca as chaves de acesso de sua conta do Twitter\n"
      ],
      "execution_count": 21,
      "outputs": []
    },
    {
      "cell_type": "code",
      "metadata": {
        "id": "7rdAakSkcTjO"
      },
      "source": [
        "# Acesso à API do Twitter\n",
        "\n",
        "auth = tw.OAuthHandler(consumer_key, consumer_secret)\n",
        "auth.set_access_token(access_token, access_token_secret)\n",
        "\n",
        "api = tw.API(auth)\n",
        "\n",
        "public_tweets = api.home_timeline()"
      ],
      "execution_count": 25,
      "outputs": []
    },
    {
      "cell_type": "code",
      "metadata": {
        "id": "EkSOmHze93nI",
        "colab": {
          "base_uri": "https://localhost:8080/"
        },
        "outputId": "ded3cc50-13d0-4ee6-c299-49a0d32c5445"
      },
      "source": [
        "# Rodando os tweets do momento \n",
        "\n",
        "for tweet in public_tweets:\n",
        "    print(tweet.text)"
      ],
      "execution_count": 26,
      "outputs": [
        {
          "output_type": "stream",
          "name": "stdout",
          "text": [
            "GOOOOOOOOOOOOOOOOOOOOOOOOOL! Rodrigo Dourado amplia para o Colorado no Beira-Rio! Agora 2 a 0 contra o Bahia!… https://t.co/16jEjPI8I7\n",
            "GOL DE DAWHAN! Mais uma vez na bola aérea, o Juventude aumenta contra o Santos: 2 a 0! #BRNaTNTSports #JUVxSAN\n",
            "\n",
            "Aco… https://t.co/biGsL5ziDX\n",
            "@ECJuventude @SantosFC @TNTbr @EstadioBR @HBOMaxBR GOOOL!! @ECJuventude amplia a vantagem diante do @SantosFC após… https://t.co/GdTSvU9Qt5\n",
            "GOOOOOOOOOOOOOOL DO RED BULL BRAGANTINO! Helinho desconta no Maracanã! Um golaço! #FLUxBGT #Brasileirão2021 https://t.co/gdRVLnRfSp\n",
            "A BOLA VOLTA A ROLAR! 45 minutos finais para Inter e Bahia no #Brasileirão2021. Quem sai com o triunfo hoje? #INTxBAH\n",
            "VOLTOU A ROLAR A BOLA NO JACONI! Até aqui, @ECJuventude vai superando o @SantosFC por 1 a 0. E aí, como esse jogo v… https://t.co/YpPGDKYKVx\n",
            "Mais um dia com o Cruzeiro jogando de verde e seu adversário de azul... E o cérebro do estagiário completamento bug… https://t.co/sK4Dy8RPFA\n",
            "QUE DUPLA! Neymar foi aos seus stories agradecer a mensagem de Pelé! 😍👏🏻\n",
            "\n",
            "PSG x Manchester City é nessa terça, às 1… https://t.co/rlEjZWosNQ\n",
            "Não tem jeito: o Yuri Alberto é VICIADO em cravar! Tá maluco! E que uniforme bonito, hein? #Brasileirão2021 https://t.co/fHFd6bvEmj\n",
            "Que time é esse, filho? 🔥 O Real Madrid de 2016/17 tinha muita experiência em campo e conquistou o título da maior… https://t.co/nREQzEQGaH\n",
            "FIM DE PRIMEIRO TEMPO! Até aqui, @ECJuventude vai vencendo o @SantosFC por 1 a 0. E aí, o placar vai ficar como no… https://t.co/g4ALjaZA7i\n",
            "JOGO 22 NA 22ª RODADA DO BRASILEIRÃO! 🏆🇧🇷 Vamos ver vitória para o Juventude, para o Santos ou mais um empate na hi… https://t.co/qEJ8fR641s\n",
            "INTERVALO! O Flu vai vencendo bem o Red Bull Bragantino: 2 a 0! #Brasileirão2021 #FLUXBGT\n",
            "INTERVALO! Com gol de Yuri Alberto, o Inter vai batendo o Bahia no #Brasileirão2021 #INTxBAH\n",
            "GOL DE RICARDO BUENO! O artilheiro do Juventude subiu mais alto e abriu o placar contra o Santos! #BRNaTNTSports… https://t.co/nOkBRnm8VF\n",
            "GOOOOOOOOOOOOL!!! Ricardo Bueno abre o placar para o @ECJuventude diante do @SantosFC: 1 a 0 pelo #BRNaTNTSports… https://t.co/OtSTXQOKI0\n",
            "GOOOOOOOOOOLAÇO!!! Luiz Henrique tá demais! A cria do Fluminense faz o segundo do Tricolor! #FLUxBGT… https://t.co/epKnkirPyh\n",
            "GOOOOOOOOOOOOOOOOOOOOOOOOOL! É do Inter! Yuri Alberto abre o placar para o Colorado contra o Bahia!… https://t.co/GjrXGXSdAx\n",
            "Oito maneiras pelas quais os cientistas estão desvendando os mistérios do cérebro humano.\n",
            "\n",
            "https://t.co/HATA4hU1tq\n",
            "Simplesmente o segundo maior artilheiro da HISTÓRIA do Brasileirão! \n",
            "\n",
            "Tem que respeitar o Fred! 👏👏👏 https://t.co/p1cz6DbFvT\n"
          ]
        }
      ]
    },
    {
      "cell_type": "code",
      "metadata": {
        "colab": {
          "base_uri": "https://localhost:8080/"
        },
        "id": "0nKYEeQc1tBS",
        "outputId": "5024cf90-64b6-4303-eb07-49d7267b3784"
      },
      "source": [
        "# Diferente do formato csv, temos o formato json para armazenarmos em BD NoSQL. Vamos usar a conexão com o MongoDB pelo pymongo já importado anteriormente\n",
        "\n",
        "tweet._json"
      ],
      "execution_count": 27,
      "outputs": [
        {
          "output_type": "execute_result",
          "data": {
            "text/plain": [
              "{'contributors': None,\n",
              " 'coordinates': None,\n",
              " 'created_at': 'Sun Sep 26 19:27:30 +0000 2021',\n",
              " 'entities': {'hashtags': [],\n",
              "  'media': [{'display_url': 'pic.twitter.com/p1cz6DbFvT',\n",
              "    'expanded_url': 'https://twitter.com/TNTSportsBR/status/1442209231415898115/photo/1',\n",
              "    'id': 1442209148955992071,\n",
              "    'id_str': '1442209148955992071',\n",
              "    'indices': [100, 123],\n",
              "    'media_url': 'http://pbs.twimg.com/media/FAPBlG9XIAcH4me.jpg',\n",
              "    'media_url_https': 'https://pbs.twimg.com/media/FAPBlG9XIAcH4me.jpg',\n",
              "    'sizes': {'large': {'h': 1276, 'resize': 'fit', 'w': 1080},\n",
              "     'medium': {'h': 1200, 'resize': 'fit', 'w': 1016},\n",
              "     'small': {'h': 680, 'resize': 'fit', 'w': 576},\n",
              "     'thumb': {'h': 150, 'resize': 'crop', 'w': 150}},\n",
              "    'type': 'photo',\n",
              "    'url': 'https://t.co/p1cz6DbFvT'}],\n",
              "  'symbols': [],\n",
              "  'urls': [],\n",
              "  'user_mentions': []},\n",
              " 'extended_entities': {'media': [{'display_url': 'pic.twitter.com/p1cz6DbFvT',\n",
              "    'expanded_url': 'https://twitter.com/TNTSportsBR/status/1442209231415898115/photo/1',\n",
              "    'id': 1442209148955992071,\n",
              "    'id_str': '1442209148955992071',\n",
              "    'indices': [100, 123],\n",
              "    'media_url': 'http://pbs.twimg.com/media/FAPBlG9XIAcH4me.jpg',\n",
              "    'media_url_https': 'https://pbs.twimg.com/media/FAPBlG9XIAcH4me.jpg',\n",
              "    'sizes': {'large': {'h': 1276, 'resize': 'fit', 'w': 1080},\n",
              "     'medium': {'h': 1200, 'resize': 'fit', 'w': 1016},\n",
              "     'small': {'h': 680, 'resize': 'fit', 'w': 576},\n",
              "     'thumb': {'h': 150, 'resize': 'crop', 'w': 150}},\n",
              "    'type': 'photo',\n",
              "    'url': 'https://t.co/p1cz6DbFvT'}]},\n",
              " 'favorite_count': 1177,\n",
              " 'favorited': False,\n",
              " 'geo': None,\n",
              " 'id': 1442209231415898115,\n",
              " 'id_str': '1442209231415898115',\n",
              " 'in_reply_to_screen_name': None,\n",
              " 'in_reply_to_status_id': None,\n",
              " 'in_reply_to_status_id_str': None,\n",
              " 'in_reply_to_user_id': None,\n",
              " 'in_reply_to_user_id_str': None,\n",
              " 'is_quote_status': False,\n",
              " 'lang': 'pt',\n",
              " 'place': None,\n",
              " 'possibly_sensitive': False,\n",
              " 'possibly_sensitive_appealable': False,\n",
              " 'retweet_count': 96,\n",
              " 'retweeted': False,\n",
              " 'source': '<a href=\"https://mobile.twitter.com\" rel=\"nofollow\">Twitter Web App</a>',\n",
              " 'text': 'Simplesmente o segundo maior artilheiro da HISTÓRIA do Brasileirão! \\n\\nTem que respeitar o Fred! 👏👏👏 https://t.co/p1cz6DbFvT',\n",
              " 'truncated': False,\n",
              " 'user': {'contributors_enabled': False,\n",
              "  'created_at': 'Wed Aug 20 00:32:15 +0000 2008',\n",
              "  'default_profile': False,\n",
              "  'default_profile_image': False,\n",
              "  'description': '🏟️ ASSISTA ao Brasileirão e a Champions no @hbomaxbr e na @tntbr\\n⚽ Isso e muito mais clicando aqui 👇',\n",
              "  'entities': {'description': {'urls': []},\n",
              "   'url': {'urls': [{'display_url': 'linktr.ee/tntsportsbr',\n",
              "      'expanded_url': 'https://linktr.ee/tntsportsbr',\n",
              "      'indices': [0, 23],\n",
              "      'url': 'https://t.co/QvBT8c17oB'}]}},\n",
              "  'favourites_count': 15044,\n",
              "  'follow_request_sent': False,\n",
              "  'followers_count': 3837877,\n",
              "  'following': True,\n",
              "  'friends_count': 776,\n",
              "  'geo_enabled': True,\n",
              "  'has_extended_profile': False,\n",
              "  'id': 15911679,\n",
              "  'id_str': '15911679',\n",
              "  'is_translation_enabled': False,\n",
              "  'is_translator': False,\n",
              "  'lang': None,\n",
              "  'listed_count': 8133,\n",
              "  'location': 'Brasil',\n",
              "  'name': 'TNT Sports Brasil',\n",
              "  'notifications': False,\n",
              "  'profile_background_color': 'C0DEED',\n",
              "  'profile_background_image_url': 'http://abs.twimg.com/images/themes/theme1/bg.png',\n",
              "  'profile_background_image_url_https': 'https://abs.twimg.com/images/themes/theme1/bg.png',\n",
              "  'profile_background_tile': False,\n",
              "  'profile_banner_url': 'https://pbs.twimg.com/profile_banners/15911679/1630345889',\n",
              "  'profile_image_url': 'http://pbs.twimg.com/profile_images/1424394820164980739/jq4pn49f_normal.jpg',\n",
              "  'profile_image_url_https': 'https://pbs.twimg.com/profile_images/1424394820164980739/jq4pn49f_normal.jpg',\n",
              "  'profile_link_color': 'DD2E44',\n",
              "  'profile_sidebar_border_color': 'FFFFFF',\n",
              "  'profile_sidebar_fill_color': 'DDEEF6',\n",
              "  'profile_text_color': '333333',\n",
              "  'profile_use_background_image': True,\n",
              "  'protected': False,\n",
              "  'screen_name': 'TNTSportsBR',\n",
              "  'statuses_count': 336189,\n",
              "  'time_zone': None,\n",
              "  'translator_type': 'none',\n",
              "  'url': 'https://t.co/QvBT8c17oB',\n",
              "  'utc_offset': None,\n",
              "  'verified': True,\n",
              "  'withheld_in_countries': []}}"
            ]
          },
          "metadata": {},
          "execution_count": 27
        }
      ]
    },
    {
      "cell_type": "code",
      "metadata": {
        "colab": {
          "base_uri": "https://localhost:8080/"
        },
        "id": "RNQb3Xu110Ul",
        "outputId": "0a321f3a-f1a9-4bdb-bfc0-eb3a311df670"
      },
      "source": [
        "tweet._json.keys()"
      ],
      "execution_count": 28,
      "outputs": [
        {
          "output_type": "execute_result",
          "data": {
            "text/plain": [
              "dict_keys(['created_at', 'id', 'id_str', 'text', 'truncated', 'entities', 'extended_entities', 'source', 'in_reply_to_status_id', 'in_reply_to_status_id_str', 'in_reply_to_user_id', 'in_reply_to_user_id_str', 'in_reply_to_screen_name', 'user', 'geo', 'coordinates', 'place', 'contributors', 'is_quote_status', 'retweet_count', 'favorite_count', 'favorited', 'retweeted', 'possibly_sensitive', 'possibly_sensitive_appealable', 'lang'])"
            ]
          },
          "metadata": {},
          "execution_count": 28
        }
      ]
    },
    {
      "cell_type": "code",
      "metadata": {
        "id": "abuxWVKq15E9"
      },
      "source": [
        "query_search= \"#trending topics\"  + \" -filter:retweets\""
      ],
      "execution_count": 29,
      "outputs": []
    },
    {
      "cell_type": "code",
      "metadata": {
        "id": "bPNtA3JX19fj"
      },
      "source": [
        "cursor_tweets = tw.Cursor(api.search,\n",
        "            q=query_search).items(200)"
      ],
      "execution_count": 30,
      "outputs": []
    },
    {
      "cell_type": "code",
      "metadata": {
        "colab": {
          "base_uri": "https://localhost:8080/"
        },
        "id": "pINiUqJ219-l",
        "outputId": "e59f03de-5624-4746-ebcd-e5f7a89bc841"
      },
      "source": [
        "for tweet in cursor_tweets:\n",
        "    print(tweet.created_at)\n",
        "    print(tweet.text)"
      ],
      "execution_count": 31,
      "outputs": [
        {
          "output_type": "stream",
          "name": "stdout",
          "text": [
            "2021-09-26 18:34:19\n",
            "@IPL @HarshalPatel23 In #Trending only sports topics.\n",
            "#Cricket\n",
            "\n",
            "Harshal Patel\n",
            "Hardik\n",
            "#PlayBold \n",
            "Mumbai Indians\n",
            "Maxw… https://t.co/9ri0baHGA5\n",
            "2021-09-26 10:26:58\n",
            "3 Questions to Ask Before Responding in Social Media  #repsonding, #socialmediatopics, #posts, #3Ys, #anonymous,… https://t.co/osikTDro7e\n",
            "2021-09-26 04:27:07\n",
            "#Trending: Diabetes AI adjustable for surveilling other public health concerns - AI in Healthcare\n",
            "\n",
            "#ai #ml… https://t.co/pEKBTBgBpL\n",
            "2021-09-26 00:01:19\n",
            "Early morning #trending topics by #Sudanesetweeps #Sudan https://t.co/j36N15t9Q8 September 26, 2021 at 03:01AM\n",
            "2021-09-25 16:56:46\n",
            "India's Top 10 Trending Topics of 25Sep2021 #Trending #TrendingNow #Trends #twittertrend #trendingtopics #trending https://t.co/hOm5pDtik2\n",
            "2021-09-25 13:24:11\n",
            "#SomosMediosLocales - @ServientregaCS en 39 años ha logrado posicionarse como la marca de #Mensajeria más grande de… https://t.co/ovb8U140fJ\n",
            "2021-09-25 11:15:00\n",
            "Keep abreast of all the latest #crypto and #blockchain news with #Klever.\n",
            "\n",
            "Here is a list of last week's most… https://t.co/JtbU6wnMqB\n",
            "2021-09-25 10:04:50\n",
            "3 Questions to Ask Before Responding in Social Media  #repsonding, #socialmediatopics, #posts, #3Ys, #anonymous,… https://t.co/n41btyT3Qv\n",
            "2021-09-25 00:01:33\n",
            "Early morning #trending topics by #Sudanesetweeps #Sudan https://t.co/j36N15t9Q8 September 25, 2021 at 03:01AM\n",
            "2021-09-24 20:10:47\n",
            "Have you registered for our Monday's #Trending #Topics virtual #event? Visit: https://t.co/Jq04SIjxHp… https://t.co/hmQxBYg3n0\n",
            "2021-09-24 14:18:28\n",
            "This morning's #trending Tampa Bay topics 👇\n",
            "\n",
            "🏈 This week’s in-state college gameday guide \n",
            "🔥 Welcome to the… https://t.co/cCoq4Jns9D\n",
            "2021-09-24 09:50:51\n",
            "Today's Top #Twitter #Trending #Spain #topics\n",
            "Puigdemont #MyUniverse Cerdeña #FelizViernesATodos… https://t.co/1WQbh8r28f\n",
            "2021-09-24 09:38:48\n",
            "Today's Top #Twitter #Trending #Spain #topics\n",
            "Puigdemont #MyUniverse Cerdeña #FelizViernesATodos… https://t.co/FcWCKyPZPK\n",
            "2021-09-24 09:32:17\n",
            "Today's Top #Twitter #Trending #Spain #topics\n",
            "Puigdemont #MyUniverse Cerdeña #FelizViernesATodos… https://t.co/oCbsd6mzFT\n",
            "2021-09-24 05:21:21\n",
            "Hello everyone. Follow me. 💟 I'm from Canada 🇨🇦. This is world largest international friend group.👬🧑‍🤝‍🧑… https://t.co/Vo16FS9Njp\n",
            "2021-09-24 02:34:03\n",
            "#factchecking on #Trending topics: #SaltInCoffee/ salt in #chai\n",
            "\n",
            "https://t.co/NJOvYRCw1N\n",
            "\n",
            "Beware of #fad in #trend… https://t.co/3eMDjlHTx9\n",
            "2021-09-24 00:02:05\n",
            "Early morning #trending topics by #Sudanesetweeps #Sudan https://t.co/j36N15t9Q8 September 24, 2021 at 03:02AM\n",
            "2021-09-24 00:00:31\n",
            "Well that's it! I'm officially that old guy now. \n",
            "I don't understand or know anything about the top 20 trending top… https://t.co/CpD8uqlXqt\n",
            "2021-09-23 20:13:32\n",
            "2. Relevant content:  Content can produce good marketing results if it stirs a strong emotional reaction. Make cont… https://t.co/8V6CoFYpHE\n",
            "2021-09-23 13:49:26\n",
            "This morning's #trending Tampa Bay topics 👇\n",
            "\n",
            "🏆 Rays clinch third-straight playoff berth #RaysUp \n",
            "⚾️ #Bucs Antonio B… https://t.co/zaptO5uPrh\n",
            "2021-09-23 12:09:25\n",
            "How to use your #Trending topics to grow your audience!! \n",
            "\n",
            "#GrowWithTwitter #socialmediamarketing https://t.co/1xJrFqRfx6\n",
            "2021-09-23 11:30:00\n",
            "It's important to keep your #Alamy collection fresh and on trend if you want to see regular sales. \n",
            "\n",
            "Check out our… https://t.co/MXRgJEAqhC\n",
            "2021-09-23 09:37:27\n",
            "Posts and updates on global sports events dominated #socialmedia conversations in #UAE and #KSA last month! Have a… https://t.co/2kBWBKCWJg\n",
            "2021-09-23 00:03:26\n",
            "Early morning #trending topics by #Sudanesetweeps #Sudan https://t.co/j36N15byry September 23, 2021 at 03:03AM\n",
            "2021-09-23 00:01:17\n",
            "Check out our live this morning at 10:30 am AEST for some interesting topics #live #Trending #GhostHunters… https://t.co/ncieng4kqp\n",
            "2021-09-22 16:19:11\n",
            "https://t.co/VuBjlhXL3n\n",
            "\n",
            "Link for the page for daily LEGAL SOCIAL TOPICS.\n",
            "#AcademicBreakNow #law #kids #kid… https://t.co/trmO1fkH3z\n",
            "2021-09-22 14:17:24\n",
            "This morning's #trending Tampa Bay topics 👇\n",
            "\n",
            "🎤 How Rod Wave went from Lakewood High to international superstar\n",
            "🏈 To… https://t.co/eNFBfLcLXs\n",
            "2021-09-22 03:07:44\n",
            "I made a brief video about how to handle rejection.\n",
            "\n",
            "(https://t.co/T5XzsYoM2M)\n",
            "\n",
            "( #topics #podcast #youtube #radio… https://t.co/hXaJxyyMff\n",
            "2021-09-22 00:02:05\n",
            "Early morning #trending topics by #Sudanesetweeps #Sudan https://t.co/j36N15byry September 22, 2021 at 03:02AM\n",
            "2021-09-21 18:58:32\n",
            "People spamming Multiple trending topics/hashtags have made the user experience hell on Twitter. \n",
            "\n",
            "I've stopped che… https://t.co/TqhvwjU6am\n",
            "2021-09-21 14:00:24\n",
            "This morning's #trending Tampa Bay topics 👇\n",
            "\n",
            "🔥 Shane Baz gets big-time W in first MLB start #RaysUp \n",
            "🏈 #FSU commits… https://t.co/IpoDfiUD0J\n",
            "2021-09-21 10:04:58\n",
            "3 Questions to Ask Before Responding in Social Media  #repsonding, #socialmediatopics, #posts, #3Ys, #anonymous,… https://t.co/MJm2exY7el\n",
            "2021-09-21 03:36:52\n",
            "#trending topics #predictions worldwide. Use them to find a new topic #idea that has high chances to be a trend for… https://t.co/RzygoCjvXt\n",
            "2021-09-21 00:02:47\n",
            "Early morning #trending topics by #Sudanesetweeps #Sudan https://t.co/j36N15byry September 21, 2021 at 03:02AM\n",
            "2021-09-20 15:46:09\n",
            "India's Top 10 Trending Topics of 20Sep2021 #Trending #TrendingNow #Trends #twittertrend #trendingtopics #trending https://t.co/nmfpjdGpTo\n",
            "2021-09-20 10:37:31\n",
            "Crispy and cheesy potato balls\n",
            "👇👇👇👇👇👇👇👇👇👇👇\n",
            " https://t.co/zfd6NCyxLF\n",
            "#support #follow #like  #share  #likeforlike… https://t.co/su8NWV5uIJ\n",
            "2021-09-20 10:35:37\n",
            "Crispy and cheesy potato balls\n",
            "👇👇👇👇👇👇👇👇👇👇👇\n",
            " https://t.co/zfd6NCyxLF\n",
            "#support #follow #like  #share  #likeforlike… https://t.co/fDoYXnNmx8\n",
            "2021-09-20 00:01:46\n",
            "Early morning #trending topics by #Sudanesetweeps #Sudan https://t.co/j36N15t9Q8 September 20, 2021 at 03:01AM\n",
            "2021-09-19 10:14:43\n",
            "3 Questions to Ask Before Responding in Social Media  #repsonding, #socialmediatopics, #posts, #3Ys, #anonymous,… https://t.co/IBlthvjOzx\n",
            "2021-09-19 00:01:13\n",
            "Early morning #trending topics by #Sudanesetweeps #Sudan https://t.co/j36N15t9Q8 September 19, 2021 at 03:01AM\n",
            "2021-09-18 17:10:47\n",
            "👋\n",
            "#trending #nowtrending #shilpa #gif #newtrending #trendingtopic #topic #watchyourmouth #mouth #love #toptrending… https://t.co/kCRMN8Eqz2\n",
            "2021-09-18 11:58:18\n",
            "3 Days free Data Science Orientation Sessions.\n",
            "Register your interest here:-https://t.co/U5E2fmic9e\n",
            "visit us:-www.s… https://t.co/I2BGj23Vgt\n",
            "2021-09-18 11:15:00\n",
            "Keep abreast of all the latest #crypto and #blockchain news with #Klever.\n",
            "\n",
            "Here is a list of last week's most… https://t.co/0VKQFIYFaq\n",
            "2021-09-18 10:22:24\n",
            "3 Questions to Ask Before Responding in Social Media  #repsonding, #socialmediatopics, #posts, #3Ys, #anonymous,… https://t.co/SpTD9pb69f\n",
            "2021-09-18 00:02:29\n",
            "Early morning #trending topics by #Sudanesetweeps #Sudan https://t.co/j36N15t9Q8 September 18, 2021 at 03:02AM\n",
            "2021-09-17 21:56:22\n",
            "5 Ways to Find Trending Topics and Key Words https://t.co/5aXei4tkXo \n",
            " #blogs #googletrends #hashtags #instagram… https://t.co/fBmIekj8m5\n",
            "2021-09-17 16:25:18\n",
            "India's Top 10 Trending Topics of 17Sep2021 #Trending #TrendingNow #Trends #twittertrend #trendingtopics #trending https://t.co/XKxNzgolQC\n",
            "2021-09-17 14:05:09\n",
            "Check out the latest #Trending #Topics on various categories.\n",
            "\n",
            "https://t.co/ShHoHjOxQe https://t.co/MplBWekQmd\n",
            "2021-09-17 13:56:23\n",
            "This morning's #trending Tampa Bay topics 👇\n",
            "\n",
            "⚾️ #Rays leadoff final homestand with win over Tigers\n",
            "🏈 Tom Brady's ad… https://t.co/tNHXfBOVLG\n"
          ]
        }
      ]
    },
    {
      "cell_type": "code",
      "metadata": {
        "id": "H2MdYIiY2YDa"
      },
      "source": [
        "# Armazenando os Twitts na variável tweets_python\n",
        "\n",
        "tweets_python = tweet._json"
      ],
      "execution_count": 34,
      "outputs": []
    },
    {
      "cell_type": "code",
      "metadata": {
        "colab": {
          "base_uri": "https://localhost:8080/"
        },
        "id": "9Sm9Iog52nh5",
        "outputId": "449a3de9-90ca-419e-9934-41c05ef68e28"
      },
      "source": [
        "len(tweets_python)"
      ],
      "execution_count": 35,
      "outputs": [
        {
          "output_type": "execute_result",
          "data": {
            "text/plain": [
              "25"
            ]
          },
          "metadata": {},
          "execution_count": 35
        }
      ]
    },
    {
      "cell_type": "code",
      "metadata": {
        "colab": {
          "base_uri": "https://localhost:8080/"
        },
        "id": "KU4uK79q3b97",
        "outputId": "d23c60cd-a553-4c21-f00d-1c2484b03c7e"
      },
      "source": [
        "# Checando os valores json armazenados na variável\n",
        "\n",
        "tweets_python"
      ],
      "execution_count": 36,
      "outputs": [
        {
          "output_type": "execute_result",
          "data": {
            "text/plain": [
              "{'contributors': None,\n",
              " 'coordinates': None,\n",
              " 'created_at': 'Fri Sep 17 13:56:23 +0000 2021',\n",
              " 'entities': {'hashtags': [{'indices': [15, 24], 'text': 'trending'},\n",
              "   {'indices': [48, 53], 'text': 'Rays'}],\n",
              "  'symbols': [],\n",
              "  'urls': [{'display_url': 'twitter.com/i/web/status/1…',\n",
              "    'expanded_url': 'https://twitter.com/i/web/status/1438864411444318213',\n",
              "    'indices': [117, 140],\n",
              "    'url': 'https://t.co/tNHXfBOVLG'}],\n",
              "  'user_mentions': []},\n",
              " 'favorite_count': 0,\n",
              " 'favorited': False,\n",
              " 'geo': None,\n",
              " 'id': 1438864411444318213,\n",
              " 'id_str': '1438864411444318213',\n",
              " 'in_reply_to_screen_name': None,\n",
              " 'in_reply_to_status_id': None,\n",
              " 'in_reply_to_status_id_str': None,\n",
              " 'in_reply_to_user_id': None,\n",
              " 'in_reply_to_user_id_str': None,\n",
              " 'is_quote_status': False,\n",
              " 'lang': 'en',\n",
              " 'metadata': {'iso_language_code': 'en', 'result_type': 'recent'},\n",
              " 'place': None,\n",
              " 'possibly_sensitive': False,\n",
              " 'retweet_count': 0,\n",
              " 'retweeted': False,\n",
              " 'source': '<a href=\"https://mobile.twitter.com\" rel=\"nofollow\">Twitter Web App</a>',\n",
              " 'text': \"This morning's #trending Tampa Bay topics 👇\\n\\n⚾️ #Rays leadoff final homestand with win over Tigers\\n🏈 Tom Brady's ad… https://t.co/tNHXfBOVLG\",\n",
              " 'truncated': True,\n",
              " 'user': {'contributors_enabled': False,\n",
              "  'created_at': 'Wed Jan 10 21:14:48 +0000 2018',\n",
              "  'default_profile': True,\n",
              "  'default_profile_image': False,\n",
              "  'description': 'Your home for Tampa Bay sports and lifestyle conversation.',\n",
              "  'entities': {'description': {'urls': []},\n",
              "   'url': {'urls': [{'display_url': 'theidentitytb.com',\n",
              "      'expanded_url': 'https://www.theidentitytb.com/',\n",
              "      'indices': [0, 23],\n",
              "      'url': 'https://t.co/8Aes4FrPe6'}]}},\n",
              "  'favourites_count': 2110,\n",
              "  'follow_request_sent': False,\n",
              "  'followers_count': 2743,\n",
              "  'following': False,\n",
              "  'friends_count': 696,\n",
              "  'geo_enabled': True,\n",
              "  'has_extended_profile': True,\n",
              "  'id': 951200676167766016,\n",
              "  'id_str': '951200676167766016',\n",
              "  'is_translation_enabled': False,\n",
              "  'is_translator': False,\n",
              "  'lang': None,\n",
              "  'listed_count': 25,\n",
              "  'location': 'Tampa Bay, FL',\n",
              "  'name': 'The Identity Tampa Bay',\n",
              "  'notifications': False,\n",
              "  'profile_background_color': 'F5F8FA',\n",
              "  'profile_background_image_url': None,\n",
              "  'profile_background_image_url_https': None,\n",
              "  'profile_background_tile': False,\n",
              "  'profile_banner_url': 'https://pbs.twimg.com/profile_banners/951200676167766016/1629756314',\n",
              "  'profile_image_url': 'http://pbs.twimg.com/profile_images/1415345166551076870/6w8zMBo1_normal.jpg',\n",
              "  'profile_image_url_https': 'https://pbs.twimg.com/profile_images/1415345166551076870/6w8zMBo1_normal.jpg',\n",
              "  'profile_link_color': '1DA1F2',\n",
              "  'profile_sidebar_border_color': 'C0DEED',\n",
              "  'profile_sidebar_fill_color': 'DDEEF6',\n",
              "  'profile_text_color': '333333',\n",
              "  'profile_use_background_image': True,\n",
              "  'protected': False,\n",
              "  'screen_name': 'TheIdentityTB',\n",
              "  'statuses_count': 5146,\n",
              "  'time_zone': None,\n",
              "  'translator_type': 'none',\n",
              "  'url': 'https://t.co/8Aes4FrPe6',\n",
              "  'utc_offset': None,\n",
              "  'verified': True,\n",
              "  'withheld_in_countries': []}}"
            ]
          },
          "metadata": {},
          "execution_count": 36
        }
      ]
    }
  ]
}